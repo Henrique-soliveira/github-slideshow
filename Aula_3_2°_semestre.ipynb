{
  "nbformat": 4,
  "nbformat_minor": 0,
  "metadata": {
    "colab": {
      "name": "Aula 3 2° semestre.ipynb",
      "provenance": [],
      "authorship_tag": "ABX9TyOCbRbzJrYKskNvi91l7BAu",
      "include_colab_link": true
    },
    "kernelspec": {
      "name": "python3",
      "display_name": "Python 3"
    },
    "language_info": {
      "name": "python"
    }
  },
  "cells": [
    {
      "cell_type": "markdown",
      "metadata": {
        "id": "view-in-github",
        "colab_type": "text"
      },
      "source": [
        "<a href=\"https://colab.research.google.com/github/Henrique-soliveira/github-slideshow/blob/Henrique-soliveira-patch-1/Aula_3_2%C2%B0_semestre.ipynb\" target=\"_parent\"><img src=\"https://colab.research.google.com/assets/colab-badge.svg\" alt=\"Open In Colab\"/></a>"
      ]
    },
    {
      "cell_type": "code",
      "execution_count": null,
      "metadata": {
        "id": "1qx9ViOenXrm"
      },
      "outputs": [],
      "source": [
        "! pip install unidecode\n"
      ]
    },
    {
      "cell_type": "code",
      "source": [
        "import numpy as np\n",
        "import pandas as pd\n",
        "import matplotlib.pyplot as plt\n",
        "\n"
      ],
      "metadata": {
        "id": "KAbjemLaqgzC"
      },
      "execution_count": 5,
      "outputs": []
    },
    {
      "cell_type": "code",
      "source": [
        "from wordcloud import WordCloud\n",
        "from PIL import Image\n"
      ],
      "metadata": {
        "id": "ZLkeee-lncym"
      },
      "execution_count": 9,
      "outputs": []
    },
    {
      "cell_type": "code",
      "source": [
        "import re\n",
        "from unicodedata import normalize\n",
        "import unidecode\n",
        "import string"
      ],
      "metadata": {
        "id": "wsvcwP9hnc1R"
      },
      "execution_count": 7,
      "outputs": []
    },
    {
      "cell_type": "code",
      "source": [
        "from spacy.lang.pt.stop_words import STOP_WORDS"
      ],
      "metadata": {
        "id": "RNuFgNAinc4l"
      },
      "execution_count": 4,
      "outputs": []
    },
    {
      "cell_type": "code",
      "source": [
        "STOP_WORDS"
      ],
      "metadata": {
        "colab": {
          "base_uri": "https://localhost:8080/"
        },
        "id": "GeMQJwM0nc6-",
        "outputId": "b823c9fb-6c5b-4bdc-d7db-94c05d6037fc"
      },
      "execution_count": 10,
      "outputs": [
        {
          "output_type": "execute_result",
          "data": {
            "text/plain": [
              "{'a',\n",
              " 'acerca',\n",
              " 'ademais',\n",
              " 'adeus',\n",
              " 'agora',\n",
              " 'ainda',\n",
              " 'algo',\n",
              " 'algumas',\n",
              " 'alguns',\n",
              " 'ali',\n",
              " 'além',\n",
              " 'ambas',\n",
              " 'ambos',\n",
              " 'antes',\n",
              " 'ao',\n",
              " 'aos',\n",
              " 'apenas',\n",
              " 'apoia',\n",
              " 'apoio',\n",
              " 'apontar',\n",
              " 'após',\n",
              " 'aquela',\n",
              " 'aquelas',\n",
              " 'aquele',\n",
              " 'aqueles',\n",
              " 'aqui',\n",
              " 'aquilo',\n",
              " 'as',\n",
              " 'assim',\n",
              " 'através',\n",
              " 'atrás',\n",
              " 'até',\n",
              " 'aí',\n",
              " 'baixo',\n",
              " 'bastante',\n",
              " 'bem',\n",
              " 'boa',\n",
              " 'bom',\n",
              " 'breve',\n",
              " 'cada',\n",
              " 'caminho',\n",
              " 'catorze',\n",
              " 'cedo',\n",
              " 'cento',\n",
              " 'certamente',\n",
              " 'certeza',\n",
              " 'cima',\n",
              " 'cinco',\n",
              " 'coisa',\n",
              " 'com',\n",
              " 'como',\n",
              " 'comprida',\n",
              " 'comprido',\n",
              " 'conhecida',\n",
              " 'conhecido',\n",
              " 'conselho',\n",
              " 'contra',\n",
              " 'contudo',\n",
              " 'corrente',\n",
              " 'cuja',\n",
              " 'cujo',\n",
              " 'custa',\n",
              " 'cá',\n",
              " 'da',\n",
              " 'daquela',\n",
              " 'daquele',\n",
              " 'dar',\n",
              " 'das',\n",
              " 'de',\n",
              " 'debaixo',\n",
              " 'demais',\n",
              " 'dentro',\n",
              " 'depois',\n",
              " 'des',\n",
              " 'desde',\n",
              " 'dessa',\n",
              " 'desse',\n",
              " 'desta',\n",
              " 'deste',\n",
              " 'deve',\n",
              " 'devem',\n",
              " 'deverá',\n",
              " 'dez',\n",
              " 'dezanove',\n",
              " 'dezasseis',\n",
              " 'dezassete',\n",
              " 'dezoito',\n",
              " 'diante',\n",
              " 'direita',\n",
              " 'disso',\n",
              " 'diz',\n",
              " 'dizem',\n",
              " 'dizer',\n",
              " 'do',\n",
              " 'dois',\n",
              " 'dos',\n",
              " 'doze',\n",
              " 'duas',\n",
              " 'dá',\n",
              " 'dão',\n",
              " 'e',\n",
              " 'ela',\n",
              " 'elas',\n",
              " 'ele',\n",
              " 'eles',\n",
              " 'em',\n",
              " 'embora',\n",
              " 'enquanto',\n",
              " 'entre',\n",
              " 'então',\n",
              " 'era',\n",
              " 'essa',\n",
              " 'essas',\n",
              " 'esse',\n",
              " 'esses',\n",
              " 'esta',\n",
              " 'estado',\n",
              " 'estar',\n",
              " 'estará',\n",
              " 'estas',\n",
              " 'estava',\n",
              " 'este',\n",
              " 'estes',\n",
              " 'esteve',\n",
              " 'estive',\n",
              " 'estivemos',\n",
              " 'estiveram',\n",
              " 'estiveste',\n",
              " 'estivestes',\n",
              " 'estou',\n",
              " 'está',\n",
              " 'estás',\n",
              " 'estão',\n",
              " 'eu',\n",
              " 'eventual',\n",
              " 'exemplo',\n",
              " 'falta',\n",
              " 'fará',\n",
              " 'favor',\n",
              " 'faz',\n",
              " 'fazeis',\n",
              " 'fazem',\n",
              " 'fazemos',\n",
              " 'fazer',\n",
              " 'fazes',\n",
              " 'fazia',\n",
              " 'faço',\n",
              " 'fez',\n",
              " 'fim',\n",
              " 'final',\n",
              " 'foi',\n",
              " 'fomos',\n",
              " 'for',\n",
              " 'fora',\n",
              " 'foram',\n",
              " 'forma',\n",
              " 'foste',\n",
              " 'fostes',\n",
              " 'fui',\n",
              " 'geral',\n",
              " 'grande',\n",
              " 'grandes',\n",
              " 'grupo',\n",
              " 'inclusive',\n",
              " 'iniciar',\n",
              " 'inicio',\n",
              " 'ir',\n",
              " 'irá',\n",
              " 'isso',\n",
              " 'isto',\n",
              " 'já',\n",
              " 'lado',\n",
              " 'lhe',\n",
              " 'ligado',\n",
              " 'local',\n",
              " 'logo',\n",
              " 'longe',\n",
              " 'lugar',\n",
              " 'lá',\n",
              " 'maior',\n",
              " 'maioria',\n",
              " 'maiorias',\n",
              " 'mais',\n",
              " 'mal',\n",
              " 'mas',\n",
              " 'me',\n",
              " 'meio',\n",
              " 'menor',\n",
              " 'menos',\n",
              " 'meses',\n",
              " 'mesmo',\n",
              " 'meu',\n",
              " 'meus',\n",
              " 'mil',\n",
              " 'minha',\n",
              " 'minhas',\n",
              " 'momento',\n",
              " 'muito',\n",
              " 'muitos',\n",
              " 'máximo',\n",
              " 'mês',\n",
              " 'na',\n",
              " 'nada',\n",
              " 'naquela',\n",
              " 'naquele',\n",
              " 'nas',\n",
              " 'nem',\n",
              " 'nenhuma',\n",
              " 'nessa',\n",
              " 'nesse',\n",
              " 'nesta',\n",
              " 'neste',\n",
              " 'no',\n",
              " 'nos',\n",
              " 'nossa',\n",
              " 'nossas',\n",
              " 'nosso',\n",
              " 'nossos',\n",
              " 'nova',\n",
              " 'novas',\n",
              " 'nove',\n",
              " 'novo',\n",
              " 'novos',\n",
              " 'num',\n",
              " 'numa',\n",
              " 'nunca',\n",
              " 'nuns',\n",
              " 'não',\n",
              " 'nível',\n",
              " 'nós',\n",
              " 'número',\n",
              " 'números',\n",
              " 'o',\n",
              " 'obrigada',\n",
              " 'obrigado',\n",
              " 'oitava',\n",
              " 'oitavo',\n",
              " 'oito',\n",
              " 'onde',\n",
              " 'ontem',\n",
              " 'onze',\n",
              " 'ora',\n",
              " 'os',\n",
              " 'ou',\n",
              " 'outra',\n",
              " 'outras',\n",
              " 'outros',\n",
              " 'para',\n",
              " 'parece',\n",
              " 'parte',\n",
              " 'partir',\n",
              " 'pegar',\n",
              " 'pela',\n",
              " 'pelas',\n",
              " 'pelo',\n",
              " 'pelos',\n",
              " 'perto',\n",
              " 'pode',\n",
              " 'podem',\n",
              " 'poder',\n",
              " 'poderá',\n",
              " 'podia',\n",
              " 'pois',\n",
              " 'ponto',\n",
              " 'pontos',\n",
              " 'por',\n",
              " 'porquanto',\n",
              " 'porque',\n",
              " 'porquê',\n",
              " 'portanto',\n",
              " 'porém',\n",
              " 'posição',\n",
              " 'possivelmente',\n",
              " 'posso',\n",
              " 'possível',\n",
              " 'pouca',\n",
              " 'pouco',\n",
              " 'povo',\n",
              " 'primeira',\n",
              " 'primeiro',\n",
              " 'próprio',\n",
              " 'próxima',\n",
              " 'próximo',\n",
              " 'puderam',\n",
              " 'pôde',\n",
              " 'põe',\n",
              " 'põem',\n",
              " 'quais',\n",
              " 'qual',\n",
              " 'qualquer',\n",
              " 'quando',\n",
              " 'quanto',\n",
              " 'quarta',\n",
              " 'quarto',\n",
              " 'quatro',\n",
              " 'que',\n",
              " 'quem',\n",
              " 'quer',\n",
              " 'querem',\n",
              " 'quero',\n",
              " 'questão',\n",
              " 'quieta',\n",
              " 'quieto',\n",
              " 'quinta',\n",
              " 'quinto',\n",
              " 'quinze',\n",
              " 'quê',\n",
              " 'relação',\n",
              " 'sabe',\n",
              " 'saber',\n",
              " 'se',\n",
              " 'segunda',\n",
              " 'segundo',\n",
              " 'sei',\n",
              " 'seis',\n",
              " 'sem',\n",
              " 'sempre',\n",
              " 'ser',\n",
              " 'seria',\n",
              " 'sete',\n",
              " 'seu',\n",
              " 'seus',\n",
              " 'sexta',\n",
              " 'sexto',\n",
              " 'sim',\n",
              " 'sistema',\n",
              " 'sob',\n",
              " 'sobre',\n",
              " 'sois',\n",
              " 'somente',\n",
              " 'somos',\n",
              " 'sou',\n",
              " 'sua',\n",
              " 'suas',\n",
              " 'são',\n",
              " 'sétima',\n",
              " 'sétimo',\n",
              " 'só',\n",
              " 'tais',\n",
              " 'tal',\n",
              " 'talvez',\n",
              " 'também',\n",
              " 'tanta',\n",
              " 'tanto',\n",
              " 'tarde',\n",
              " 'te',\n",
              " 'tem',\n",
              " 'temos',\n",
              " 'tempo',\n",
              " 'tendes',\n",
              " 'tenho',\n",
              " 'tens',\n",
              " 'tentar',\n",
              " 'tentaram',\n",
              " 'tente',\n",
              " 'tentei',\n",
              " 'ter',\n",
              " 'terceira',\n",
              " 'terceiro',\n",
              " 'teu',\n",
              " 'teus',\n",
              " 'teve',\n",
              " 'tipo',\n",
              " 'tive',\n",
              " 'tivemos',\n",
              " 'tiveram',\n",
              " 'tiveste',\n",
              " 'tivestes',\n",
              " 'toda',\n",
              " 'todas',\n",
              " 'todo',\n",
              " 'todos',\n",
              " 'treze',\n",
              " 'três',\n",
              " 'tu',\n",
              " 'tua',\n",
              " 'tuas',\n",
              " 'tudo',\n",
              " 'tão',\n",
              " 'têm',\n",
              " 'um',\n",
              " 'uma',\n",
              " 'umas',\n",
              " 'uns',\n",
              " 'usa',\n",
              " 'usar',\n",
              " 'vai',\n",
              " 'vais',\n",
              " 'valor',\n",
              " 'veja',\n",
              " 'vem',\n",
              " 'vens',\n",
              " 'ver',\n",
              " 'vez',\n",
              " 'vezes',\n",
              " 'vinda',\n",
              " 'vindo',\n",
              " 'vinte',\n",
              " 'você',\n",
              " 'vocês',\n",
              " 'vos',\n",
              " 'vossa',\n",
              " 'vossas',\n",
              " 'vosso',\n",
              " 'vossos',\n",
              " 'vários',\n",
              " 'vão',\n",
              " 'vêm',\n",
              " 'vós',\n",
              " 'zero',\n",
              " 'à',\n",
              " 'às',\n",
              " 'área',\n",
              " 'é',\n",
              " 'és',\n",
              " 'último'}"
            ]
          },
          "metadata": {},
          "execution_count": 10
        }
      ]
    },
    {
      "cell_type": "code",
      "source": [
        "dados_texto = pd.read_csv('dados_cptm.csv' , encoding= 'latin1')"
      ],
      "metadata": {
        "id": "OgNIMbIQnc9X"
      },
      "execution_count": 13,
      "outputs": []
    },
    {
      "cell_type": "code",
      "source": [
        "dados_texto"
      ],
      "metadata": {
        "id": "sKCBBT5XndAF"
      },
      "execution_count": null,
      "outputs": []
    },
    {
      "cell_type": "code",
      "source": [
        ""
      ],
      "metadata": {
        "id": "Kq0UArChndC9"
      },
      "execution_count": null,
      "outputs": []
    },
    {
      "cell_type": "markdown",
      "source": [
        "## Pré-Processamento"
      ],
      "metadata": {
        "id": "3NzwzXhWsZyq"
      }
    },
    {
      "cell_type": "code",
      "source": [
        "# retirar url's\n",
        "url_re = re.compile('https?://(www.)?\\w+\\.\\w+(/\\w+)*/?')"
      ],
      "metadata": {
        "id": "32O7_7DMndFl"
      },
      "execution_count": 16,
      "outputs": []
    },
    {
      "cell_type": "code",
      "source": [
        "# pontuação\n",
        "punc_re = re.compile('[%s]' % re.escape(string.punctuation))"
      ],
      "metadata": {
        "id": "QtqePos7ndIN"
      },
      "execution_count": 17,
      "outputs": []
    },
    {
      "cell_type": "code",
      "source": [
        "# numeros\n",
        "num_re = re.compile('(\\\\d+)')"
      ],
      "metadata": {
        "id": "zKhbdS7_ndK2"
      },
      "execution_count": 18,
      "outputs": []
    },
    {
      "cell_type": "code",
      "source": [
        "# alfa numericos\n",
        "alpha_num_re = re.compile(\"^[a-z0-9_.]+$\")"
      ],
      "metadata": {
        "id": "NEAfgcryndNP"
      },
      "execution_count": 19,
      "outputs": []
    },
    {
      "cell_type": "code",
      "source": [
        "# mencoes\n",
        "mention_re = re.compile('@(\\w+)')"
      ],
      "metadata": {
        "id": "z5dKpqlQndPt"
      },
      "execution_count": 20,
      "outputs": []
    },
    {
      "cell_type": "code",
      "source": [
        ""
      ],
      "metadata": {
        "id": "zBeLxqx1ndST"
      },
      "execution_count": null,
      "outputs": []
    },
    {
      "cell_type": "markdown",
      "source": [
        "## Ajustes"
      ],
      "metadata": {
        "id": "jsk2aBLjuMSF"
      }
    },
    {
      "cell_type": "markdown",
      "source": [
        "\n",
        "\n",
        "*   Deixar Minusculo\n",
        "\n"
      ],
      "metadata": {
        "id": "r7afIYQ-uQV0"
      }
    },
    {
      "cell_type": "code",
      "source": [
        "texto_ajustado = dados_texto['texto_do_twitter']. apply(lambda x: x.lower())\n",
        "texto_ajustado"
      ],
      "metadata": {
        "colab": {
          "base_uri": "https://localhost:8080/"
        },
        "id": "jFoWTZzauV_m",
        "outputId": "9554080b-f418-4358-e413-70d22affeb09"
      },
      "execution_count": 22,
      "outputs": [
        {
          "output_type": "execute_result",
          "data": {
            "text/plain": [
              "0       @cptm_oficial 20 min q estou esperando um trem...\n",
              "1       [18h20] cptm: linha 11 - coral: velocidade red...\n",
              "2       [18h20] cptm: linha 9 - esmeralda: operação no...\n",
              "3       [18h20] cptm: linha 7 - rubi: velocidade reduz...\n",
              "4       @_lcoliveira2016 @usuariosmetrosp @cptm_oficia...\n",
              "                              ...                        \n",
              "8465    [10h59] cptm: linha 9 - esmeralda: operação no...\n",
              "8466    [10h59] cptm: linha 7 - rubi: velocidade reduz...\n",
              "8467    [10h39] cptm: linha 11 - coral: operação norma...\n",
              "8468    ao embarcar ou desembarcar na cptm tenha muito...\n",
              "8469    [09h39] cptm: linha 9 - esmeralda: operação no...\n",
              "Name: texto_do_twitter, Length: 8470, dtype: object"
            ]
          },
          "metadata": {},
          "execution_count": 22
        }
      ]
    },
    {
      "cell_type": "code",
      "source": [
        "texto_ajustado = texto_ajustado.apply(lambda x: url_re.sub('', x))"
      ],
      "metadata": {
        "id": "xdbi9ys3uXQT"
      },
      "execution_count": 23,
      "outputs": []
    },
    {
      "cell_type": "code",
      "source": [
        "texto_ajustado"
      ],
      "metadata": {
        "colab": {
          "base_uri": "https://localhost:8080/"
        },
        "id": "6_ricNoyuXTC",
        "outputId": "f218984f-9dac-4838-ee8d-8fc76dcb6712"
      },
      "execution_count": 24,
      "outputs": [
        {
          "output_type": "execute_result",
          "data": {
            "text/plain": [
              "0       @cptm_oficial 20 min q estou esperando um trem...\n",
              "1       [18h20] cptm: linha 11 - coral: velocidade red...\n",
              "2       [18h20] cptm: linha 9 - esmeralda: operação no...\n",
              "3       [18h20] cptm: linha 7 - rubi: velocidade reduz...\n",
              "4       @_lcoliveira2016 @usuariosmetrosp @cptm_oficia...\n",
              "                              ...                        \n",
              "8465    [10h59] cptm: linha 9 - esmeralda: operação no...\n",
              "8466    [10h59] cptm: linha 7 - rubi: velocidade reduz...\n",
              "8467    [10h39] cptm: linha 11 - coral: operação norma...\n",
              "8468    ao embarcar ou desembarcar na cptm tenha muito...\n",
              "8469    [09h39] cptm: linha 9 - esmeralda: operação no...\n",
              "Name: texto_do_twitter, Length: 8470, dtype: object"
            ]
          },
          "metadata": {},
          "execution_count": 24
        }
      ]
    },
    {
      "cell_type": "markdown",
      "source": [
        "- Tratamento das menções"
      ],
      "metadata": {
        "id": "3pC3tabRva-p"
      }
    },
    {
      "cell_type": "code",
      "source": [
        "texto_ajustado = texto_ajustado.apply(lambda x: mention_re.sub('', x))\n",
        "texto_ajustado"
      ],
      "metadata": {
        "colab": {
          "base_uri": "https://localhost:8080/"
        },
        "id": "eL0PqIdouXdE",
        "outputId": "05198840-fc2e-44a6-9b2b-bc52a61530e8"
      },
      "execution_count": 26,
      "outputs": [
        {
          "output_type": "execute_result",
          "data": {
            "text/plain": [
              "0        20 min q estou esperando um trem pra luz na b...\n",
              "1       [18h20] cptm: linha 11 - coral: velocidade red...\n",
              "2       [18h20] cptm: linha 9 - esmeralda: operação no...\n",
              "3       [18h20] cptm: linha 7 - rubi: velocidade reduz...\n",
              "4          durante a semana eles ñ reprimem o comércio...\n",
              "                              ...                        \n",
              "8465    [10h59] cptm: linha 9 - esmeralda: operação no...\n",
              "8466    [10h59] cptm: linha 7 - rubi: velocidade reduz...\n",
              "8467    [10h39] cptm: linha 11 - coral: operação norma...\n",
              "8468    ao embarcar ou desembarcar na cptm tenha muito...\n",
              "8469    [09h39] cptm: linha 9 - esmeralda: operação no...\n",
              "Name: texto_do_twitter, Length: 8470, dtype: object"
            ]
          },
          "metadata": {},
          "execution_count": 26
        }
      ]
    },
    {
      "cell_type": "markdown",
      "source": [
        "- Pontuações"
      ],
      "metadata": {
        "id": "3ru1mBUjv4rn"
      }
    },
    {
      "cell_type": "code",
      "source": [
        "texto_ajustado = texto_ajustado.apply(lambda x: punc_re.sub('', x))\n",
        "texto_ajustado"
      ],
      "metadata": {
        "colab": {
          "base_uri": "https://localhost:8080/"
        },
        "id": "6d5MkaPZuXkq",
        "outputId": "82957c26-1afc-48d4-b5c3-9de3a4b0515e"
      },
      "execution_count": 28,
      "outputs": [
        {
          "output_type": "execute_result",
          "data": {
            "text/plain": [
              "0        20 min q estou esperando um trem pra luz na b...\n",
              "1       18h20 cptm linha 11  coral velocidade reduzida...\n",
              "2       18h20 cptm linha 9  esmeralda operação normal ...\n",
              "3       18h20 cptm linha 7  rubi velocidade reduzida  ...\n",
              "4          durante a semana eles ñ reprimem o comércio...\n",
              "                              ...                        \n",
              "8465    10h59 cptm linha 9  esmeralda operação normal ...\n",
              "8466    10h59 cptm linha 7  rubi velocidade reduzida  ...\n",
              "8467    10h39 cptm linha 11  coral operação normal  li...\n",
              "8468    ao embarcar ou desembarcar na cptm tenha muito...\n",
              "8469    09h39 cptm linha 9  esmeralda operação normal ...\n",
              "Name: texto_do_twitter, Length: 8470, dtype: object"
            ]
          },
          "metadata": {},
          "execution_count": 28
        }
      ]
    },
    {
      "cell_type": "markdown",
      "source": [
        "- Limpar numeração"
      ],
      "metadata": {
        "id": "CWOHLAhQwS32"
      }
    },
    {
      "cell_type": "code",
      "source": [
        "texto_ajustado = texto_ajustado.apply(lambda x: num_re.sub(' ', x))\n",
        "texto_ajustado"
      ],
      "metadata": {
        "id": "Ra-5r8aGuXsK"
      },
      "execution_count": null,
      "outputs": []
    },
    {
      "cell_type": "markdown",
      "source": [
        "- Limpar acentuação"
      ],
      "metadata": {
        "id": "6DCjY6Fgwks_"
      }
    },
    {
      "cell_type": "code",
      "source": [
        "texto_ajustado = texto_ajustado.apply(lambda x: normalize('NFKD', x).encode('ASCII', 'ignore').decode('ASCII'))\n",
        "texto_ajustado"
      ],
      "metadata": {
        "id": "MBUktOzxuXu6"
      },
      "execution_count": null,
      "outputs": []
    },
    {
      "cell_type": "markdown",
      "source": [
        "- Limpar textos alfa numericos e palavras menores que 3 caracteres"
      ],
      "metadata": {
        "id": "0C-oixKSw8_U"
      }
    },
    {
      "cell_type": "code",
      "source": [
        "def preprocessamento_texto(texto, n):\n",
        "  '''Ajustar caracteres alfa numéricos e palavras menores que n\n",
        "     texto: texto a ser ajustado\n",
        "     n: tamanho mínimo das palavras'''\n",
        "  list_pos = 0\n",
        "  cleaned_str = ''\n",
        "  for word in texto.split():\n",
        "      if list_pos == 0:\n",
        "          if alpha_num_re.match(word) and len(word) > n:\n",
        "              cleaned_str = word\n",
        "          else:\n",
        "              cleaned_str = ' '\n",
        "      else:\n",
        "          if alpha_num_re.match(word) and len(word) > n:\n",
        "              cleaned_str = cleaned_str + ' ' + word\n",
        "          else:\n",
        "              cleaned_str += ' '\n",
        "      list_pos += 1\n",
        "  return cleaned_str"
      ],
      "metadata": {
        "id": "AB84cYt_wcuF"
      },
      "execution_count": 32,
      "outputs": []
    },
    {
      "cell_type": "code",
      "source": [
        "texto_ajustado = texto_ajustado.apply(lambda x: preprocessamento_texto(x, 3))\n",
        "texto_ajustado"
      ],
      "metadata": {
        "colab": {
          "base_uri": "https://localhost:8080/"
        },
        "id": "ttx8-Ixmwcwd",
        "outputId": "d5b624ec-331e-4c34-8b7a-62f71952eed3"
      },
      "execution_count": 33,
      "outputs": [
        {
          "output_type": "execute_result",
          "data": {
            "text/plain": [
              "0                estou esperando  trem      nada  absurdo\n",
              "1         cptm linha coral velocidade reduzida linha s...\n",
              "2         cptm linha esmeralda operacao normal linha t...\n",
              "3         cptm linha rubi velocidade reduzida linha di...\n",
              "4       durante  semana eles  reprimem  comercio irreg...\n",
              "                              ...                        \n",
              "8465      cptm linha esmeralda operacao normal linha t...\n",
              "8466      cptm linha rubi velocidade reduzida linha di...\n",
              "8467      cptm linha coral operacao normal linha safir...\n",
              "8468      embarcar  desembarcar  cptm tenha muito cuid...\n",
              "8469      cptm linha esmeralda operacao normal linha t...\n",
              "Name: texto_do_twitter, Length: 8470, dtype: object"
            ]
          },
          "metadata": {},
          "execution_count": 33
        }
      ]
    },
    {
      "cell_type": "markdown",
      "source": [
        "- Ajustar palavras muito usadas (*stopwords*)\n",
        "\n",
        "> Bloco com recuo"
      ],
      "metadata": {
        "id": "fn6DapBpyNDL"
      }
    },
    {
      "cell_type": "code",
      "source": [
        "def remove_stops(texto):\n",
        "    # expects a string\n",
        "    stops = set(STOP_WORDS)\n",
        "    list_pos = 0\n",
        "    cleaned_str = ''\n",
        "    text = texto.split()\n",
        "    for word in text:\n",
        "        if word not in stops:\n",
        "            # rebuild cleaned_str\n",
        "            if list_pos == 0:\n",
        "                cleaned_str = word\n",
        "            else:\n",
        "                cleaned_str = cleaned_str + ' ' + word\n",
        "            list_pos += 1\n",
        "    return cleaned_str"
      ],
      "metadata": {
        "id": "6tyeQsI6wczL"
      },
      "execution_count": 34,
      "outputs": []
    },
    {
      "cell_type": "code",
      "source": [
        "list(STOP_WORDS)[0:15]"
      ],
      "metadata": {
        "colab": {
          "base_uri": "https://localhost:8080/"
        },
        "id": "f4Tdhvzswc39",
        "outputId": "a84d885e-3248-45a1-9486-e33ef563eb78"
      },
      "execution_count": 35,
      "outputs": [
        {
          "output_type": "execute_result",
          "data": {
            "text/plain": [
              "['favor',\n",
              " 'fora',\n",
              " 'aquele',\n",
              " 'vossa',\n",
              " 'assim',\n",
              " 'contudo',\n",
              " 'menos',\n",
              " 'apoia',\n",
              " 'isto',\n",
              " 'tal',\n",
              " 'valor',\n",
              " 'oitava',\n",
              " 'vais',\n",
              " 'tuas',\n",
              " 'vinte']"
            ]
          },
          "metadata": {},
          "execution_count": 35
        }
      ]
    },
    {
      "cell_type": "code",
      "source": [
        "texto_ajustado = texto_ajustado.apply(lambda x: remove_stops(x))\n",
        "texto_ajustado"
      ],
      "metadata": {
        "colab": {
          "base_uri": "https://localhost:8080/"
        },
        "id": "iL0PvOfBwc6S",
        "outputId": "e0207017-a48c-4d56-8791-31c106f85126"
      },
      "execution_count": 36,
      "outputs": [
        {
          "output_type": "execute_result",
          "data": {
            "text/plain": [
              "0                                  esperando trem absurdo\n",
              "1       cptm linha coral velocidade reduzida linha saf...\n",
              "2       cptm linha esmeralda operacao normal linha tur...\n",
              "3       cptm linha rubi velocidade reduzida linha diam...\n",
              "4       durante semana reprimem comercio irregular que...\n",
              "                              ...                        \n",
              "8465    cptm linha esmeralda operacao normal linha tur...\n",
              "8466    cptm linha rubi velocidade reduzida linha diam...\n",
              "8467    cptm linha coral operacao normal linha safira ...\n",
              "8468    embarcar desembarcar cptm tenha cuidado altura...\n",
              "8469    cptm linha esmeralda operacao normal linha tur...\n",
              "Name: texto_do_twitter, Length: 8470, dtype: object"
            ]
          },
          "metadata": {},
          "execution_count": 36
        }
      ]
    },
    {
      "cell_type": "markdown",
      "source": [
        "- Gravar as mudanças no dataframe"
      ],
      "metadata": {
        "id": "pQBl67vqylHy"
      }
    },
    {
      "cell_type": "code",
      "source": [
        "dados_texto['texto_tratado'] = texto_ajustado\n",
        "dados_texto"
      ],
      "metadata": {
        "id": "HvKP8bZhwc80"
      },
      "execution_count": null,
      "outputs": []
    },
    {
      "cell_type": "markdown",
      "source": [
        "## Nuvem de palavras"
      ],
      "metadata": {
        "id": "crk5F-fzzU1X"
      }
    },
    {
      "cell_type": "code",
      "source": [
        "texto_completo = \" \".join(s for s in dados_texto['texto_tratado'])"
      ],
      "metadata": {
        "id": "gvN2Gjxhwc_c"
      },
      "execution_count": 41,
      "outputs": []
    },
    {
      "cell_type": "code",
      "source": [
        "wc = WordCloud()\n",
        "#wc = WordCloud(max_font_size=40, background_color='white')\n",
        "wc.generate(texto_completo)"
      ],
      "metadata": {
        "colab": {
          "base_uri": "https://localhost:8080/"
        },
        "id": "FUGH4TZYwdCR",
        "outputId": "aa4a539b-7b5f-4657-dfe8-a2da9dba15d4"
      },
      "execution_count": 42,
      "outputs": [
        {
          "output_type": "execute_result",
          "data": {
            "text/plain": [
              "<wordcloud.wordcloud.WordCloud at 0x7f7ab1590890>"
            ]
          },
          "metadata": {},
          "execution_count": 42
        }
      ]
    },
    {
      "cell_type": "code",
      "source": [
        "plt.figure()\n",
        "plt.imshow(wc, interpolation='bilinear')\n",
        "plt.axis(\"off\")\n",
        "#plot_path = 'cptm_wordcloud.png'\n",
        "#plt.savefig(plot_path,  bbox_inches='tight', dpi = 100)"
      ],
      "metadata": {
        "colab": {
          "base_uri": "https://localhost:8080/",
          "height": 215
        },
        "id": "YTzUmnc-wdE3",
        "outputId": "3dd07cf1-8287-49ae-e65a-72231cd5a67e"
      },
      "execution_count": 43,
      "outputs": [
        {
          "output_type": "execute_result",
          "data": {
            "text/plain": [
              "(-0.5, 399.5, 199.5, -0.5)"
            ]
          },
          "metadata": {},
          "execution_count": 43
        },
        {
          "output_type": "display_data",
          "data": {
            "text/plain": [
              "<Figure size 432x288 with 1 Axes>"
            ],
            "image/png": "[encoded data removed]"
          },
          "metadata": {
            "needs_background": "light"
          }
        }
      ]
    },
    {
      "cell_type": "markdown",
      "source": [
        "- Nuvem com formato"
      ],
      "metadata": {
        "id": "g-rCNu-U0sLk"
      }
    },
    {
      "cell_type": "code",
      "source": [
        "trem_formato = np.array(Image.open('trem.png'))"
      ],
      "metadata": {
        "id": "Z3niIuctwdHg"
      },
      "execution_count": 46,
      "outputs": []
    },
    {
      "cell_type": "code",
      "source": [
        "plt.figure()\n",
        "plt.imshow(trem_formato, interpolation='bilinear')\n",
        "plt.axis(\"off\")"
      ],
      "metadata": {
        "colab": {
          "base_uri": "https://localhost:8080/",
          "height": 217
        },
        "id": "rqVXWGAUwdJm",
        "outputId": "9bb9f659-aa50-499e-fa34-9480437e34c5"
      },
      "execution_count": 47,
      "outputs": [
        {
          "output_type": "execute_result",
          "data": {
            "text/plain": [
              "(-0.5, 715.5, 361.5, -0.5)"
            ]
          },
          "metadata": {},
          "execution_count": 47
        },
        {
          "output_type": "display_data",
          "data": {
            "text/plain": [
              "<Figure size 432x288 with 1 Axes>"
            ],
            "image/png": "[encoded data removed]"
          },
          "metadata": {
            "needs_background": "light"
          }
        }
      ]
    },
    {
      "cell_type": "code",
      "source": [
        "wc = WordCloud(background_color='white', mask=trem_formato)"
      ],
      "metadata": {
        "id": "e-MaRhdNwdMl"
      },
      "execution_count": 48,
      "outputs": []
    },
    {
      "cell_type": "code",
      "source": [
        "wc.generate(texto_completo)"
      ],
      "metadata": {
        "colab": {
          "base_uri": "https://localhost:8080/"
        },
        "id": "TeiXd3fv1Y22",
        "outputId": "a553cf1b-3efc-4ebe-898a-c746f6d51e35"
      },
      "execution_count": 49,
      "outputs": [
        {
          "output_type": "execute_result",
          "data": {
            "text/plain": [
              "<wordcloud.wordcloud.WordCloud at 0x7f7ab0343390>"
            ]
          },
          "metadata": {},
          "execution_count": 49
        }
      ]
    },
    {
      "cell_type": "code",
      "source": [
        "wc.to_file(\"trem.png\")"
      ],
      "metadata": {
        "colab": {
          "base_uri": "https://localhost:8080/"
        },
        "id": "BhONum9h1Y50",
        "outputId": "15568a56-8e59-40f9-b447-9b00930e0602"
      },
      "execution_count": 50,
      "outputs": [
        {
          "output_type": "execute_result",
          "data": {
            "text/plain": [
              "<wordcloud.wordcloud.WordCloud at 0x7f7ab0343390>"
            ]
          },
          "metadata": {},
          "execution_count": 50
        }
      ]
    },
    {
      "cell_type": "code",
      "source": [
        "plt.figure()\n",
        "plt.imshow(wc, interpolation='bilinear')\n",
        "plt.axis(\"off\")\n",
        "plot_path = 'trem_cptm_wordcloud.png'\n",
        "plt.savefig(plot_path,  bbox_inches='tight', dpi = 300)"
      ],
      "metadata": {
        "colab": {
          "base_uri": "https://localhost:8080/",
          "height": 200
        },
        "id": "IQafRTjT1Y8h",
        "outputId": "53b014b5-10d6-42b1-c486-e86c7cc77a66"
      },
      "execution_count": 51,
      "outputs": [
        {
          "output_type": "display_data",
          "data": {
            "text/plain": [
              "<Figure size 432x288 with 1 Axes>"
            ],
            "image/png": "[encoded data removed]"
          },
          "metadata": {
            "needs_background": "light"
          }
        }
      ]
    },
    {
      "cell_type": "code",
      "source": [
        ""
      ],
      "metadata": {
        "id": "ty3POI0s1Y_f"
      },
      "execution_count": null,
      "outputs": []
    },
    {
      "cell_type": "code",
      "source": [
        ""
      ],
      "metadata": {
        "id": "f3WrvWEauXw6"
      },
      "execution_count": null,
      "outputs": []
    }
  ]
}