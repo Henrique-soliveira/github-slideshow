{
  "nbformat": 4,
  "nbformat_minor": 0,
  "metadata": {
    "colab": {
      "name": "Estatistica - aula 4.ipynb",
      "provenance": [],
      "authorship_tag": "ABX9TyPLuADU77KWyUuLLt0rU/gd",
      "include_colab_link": true
    },
    "kernelspec": {
      "name": "python3",
      "display_name": "Python 3"
    },
    "language_info": {
      "name": "python"
    }
  },
  "cells": [
    {
      "cell_type": "markdown",
      "metadata": {
        "id": "view-in-github",
        "colab_type": "text"
      },
      "source": [
        "<a href=\"https://colab.research.google.com/github/Henrique-soliveira/github-slideshow/blob/Henrique-soliveira-patch-1/Estatistica_aula_4.ipynb\" target=\"_parent\"><img src=\"https://colab.research.google.com/assets/colab-badge.svg\" alt=\"Open In Colab\"/></a>"
      ]
    },
    {
      "cell_type": "markdown",
      "source": [],
      "metadata": {
        "id": "0hOvjKjgWH1z"
      }
    },
    {
      "cell_type": "code",
      "source": [
        "import numpy as np\n",
        "import pandas as pd"
      ],
      "metadata": {
        "id": "2Y3yRCASWHKD"
      },
      "execution_count": 1,
      "outputs": []
    },
    {
      "cell_type": "code",
      "source": [
        "! head -5 'dados_1997_2011_paises_csv.csv'"
      ],
      "metadata": {
        "colab": {
          "base_uri": "https://localhost:8080/"
        },
        "id": "sm0irYWRWHQs",
        "outputId": "3e745a2f-af42-4495-9ca4-1134761f3055"
      },
      "execution_count": 7,
      "outputs": [
        {
          "output_type": "stream",
          "name": "stdout",
          "text": [
            "pais;ano;idh;corrupcao_indice;competitividade_indice;globalizacao_indice;pib;populacao\r\n",
            "�frica do Sul;1997;0,6328;56;44,54;52,60298;148814151;43353,632\r\n",
            "�frica do Sul;1998;0,6272;57;31,11;54,51911;134295557;43961,924\r\n",
            "�frica do Sul;1999;0,6216;50;43,9;61,04379;133183581;44526,272\r\n",
            "�frica do Sul;2000;0,6160;52;51,52;62,47182;132877648;45064,098\r\n"
          ]
        }
      ]
    },
    {
      "cell_type": "code",
      "source": [
        "dados = pd.read_csv('dados_1997_2011_paises_csv.csv',\n",
        "                    encoding = 'latin1',\n",
        "                    sep = ';',\n",
        "                    decimal = ',')\n",
        "dados"
      ],
      "metadata": {
        "colab": {
          "base_uri": "https://localhost:8080/",
          "height": 748
        },
        "id": "7XzoPDoJWHTb",
        "outputId": "733ea8ac-9df3-4dc1-8979-b55ec0582292"
      },
      "execution_count": 8,
      "outputs": [
        {
          "output_type": "execute_result",
          "data": {
            "text/plain": [
              "              pais   ano     idh  corrupcao_indice  competitividade_indice  \\\n",
              "0    África do Sul  1997  0.6328                56                   44.54   \n",
              "1    África do Sul  1998  0.6272                57                   31.11   \n",
              "2    África do Sul  1999  0.6216                50                   43.90   \n",
              "3    África do Sul  2000  0.6160                52                   51.52   \n",
              "4    África do Sul  2001  0.6126                50                   45.12   \n",
              "..             ...   ...     ...               ...                     ...   \n",
              "280    Reino Unido  2007  0.8560                86                   75.45   \n",
              "281    Reino Unido  2008  0.8600                86                   71.90   \n",
              "282    Reino Unido  2009  0.8600                84                   76.07   \n",
              "283    Reino Unido  2010  0.8620                77                   76.81   \n",
              "284    Reino Unido  2011  0.8630                77                   80.28   \n",
              "\n",
              "     globalizacao_indice           pib    populacao  \n",
              "0               52.60298  1.488142e+08  43353.63200  \n",
              "1               54.51911  1.342956e+08  43961.92400  \n",
              "2               61.04379  1.331836e+08  44526.27200  \n",
              "3               62.47182  1.328776e+08  45064.09800  \n",
              "4               62.04144  1.184790e+08  45576.21500  \n",
              "..                   ...           ...          ...  \n",
              "280             82.12010  1.448770e+06  61337.36992  \n",
              "281             81.67998  1.447825e+06  61731.27576  \n",
              "282             79.31000  1.377247e+06  62086.03336  \n",
              "283             80.18000  1.395893e+06  62438.13815  \n",
              "284             81.68000  1.500045e+06  62262.00000  \n",
              "\n",
              "[285 rows x 8 columns]"
            ],
            "text/html": [
              "\n",
              "  <div id=\"df-6df86044-1a1a-44c7-b82f-b9c3bfd60d37\">\n",
              "    <div class=\"colab-df-container\">\n",
              "      <div>\n",
              "<style scoped>\n",
              "    .dataframe tbody tr th:only-of-type {\n",
              "        vertical-align: middle;\n",
              "    }\n",
              "\n",
              "    .dataframe tbody tr th {\n",
              "        vertical-align: top;\n",
              "    }\n",
              "\n",
              "    .dataframe thead th {\n",
              "        text-align: right;\n",
              "    }\n",
              "</style>\n",
              "<table border=\"1\" class=\"dataframe\">\n",
              "  <thead>\n",
              "    <tr style=\"text-align: right;\">\n",
              "      <th></th>\n",
              "      <th>pais</th>\n",
              "      <th>ano</th>\n",
              "      <th>idh</th>\n",
              "      <th>corrupcao_indice</th>\n",
              "      <th>competitividade_indice</th>\n",
              "      <th>globalizacao_indice</th>\n",
              "      <th>pib</th>\n",
              "      <th>populacao</th>\n",
              "    </tr>\n",
              "  </thead>\n",
              "  <tbody>\n",
              "    <tr>\n",
              "      <th>0</th>\n",
              "      <td>África do Sul</td>\n",
              "      <td>1997</td>\n",
              "      <td>0.6328</td>\n",
              "      <td>56</td>\n",
              "      <td>44.54</td>\n",
              "      <td>52.60298</td>\n",
              "      <td>1.488142e+08</td>\n",
              "      <td>43353.63200</td>\n",
              "    </tr>\n",
              "    <tr>\n",
              "      <th>1</th>\n",
              "      <td>África do Sul</td>\n",
              "      <td>1998</td>\n",
              "      <td>0.6272</td>\n",
              "      <td>57</td>\n",
              "      <td>31.11</td>\n",
              "      <td>54.51911</td>\n",
              "      <td>1.342956e+08</td>\n",
              "      <td>43961.92400</td>\n",
              "    </tr>\n",
              "    <tr>\n",
              "      <th>2</th>\n",
              "      <td>África do Sul</td>\n",
              "      <td>1999</td>\n",
              "      <td>0.6216</td>\n",
              "      <td>50</td>\n",
              "      <td>43.90</td>\n",
              "      <td>61.04379</td>\n",
              "      <td>1.331836e+08</td>\n",
              "      <td>44526.27200</td>\n",
              "    </tr>\n",
              "    <tr>\n",
              "      <th>3</th>\n",
              "      <td>África do Sul</td>\n",
              "      <td>2000</td>\n",
              "      <td>0.6160</td>\n",
              "      <td>52</td>\n",
              "      <td>51.52</td>\n",
              "      <td>62.47182</td>\n",
              "      <td>1.328776e+08</td>\n",
              "      <td>45064.09800</td>\n",
              "    </tr>\n",
              "    <tr>\n",
              "      <th>4</th>\n",
              "      <td>África do Sul</td>\n",
              "      <td>2001</td>\n",
              "      <td>0.6126</td>\n",
              "      <td>50</td>\n",
              "      <td>45.12</td>\n",
              "      <td>62.04144</td>\n",
              "      <td>1.184790e+08</td>\n",
              "      <td>45576.21500</td>\n",
              "    </tr>\n",
              "    <tr>\n",
              "      <th>...</th>\n",
              "      <td>...</td>\n",
              "      <td>...</td>\n",
              "      <td>...</td>\n",
              "      <td>...</td>\n",
              "      <td>...</td>\n",
              "      <td>...</td>\n",
              "      <td>...</td>\n",
              "      <td>...</td>\n",
              "    </tr>\n",
              "    <tr>\n",
              "      <th>280</th>\n",
              "      <td>Reino Unido</td>\n",
              "      <td>2007</td>\n",
              "      <td>0.8560</td>\n",
              "      <td>86</td>\n",
              "      <td>75.45</td>\n",
              "      <td>82.12010</td>\n",
              "      <td>1.448770e+06</td>\n",
              "      <td>61337.36992</td>\n",
              "    </tr>\n",
              "    <tr>\n",
              "      <th>281</th>\n",
              "      <td>Reino Unido</td>\n",
              "      <td>2008</td>\n",
              "      <td>0.8600</td>\n",
              "      <td>86</td>\n",
              "      <td>71.90</td>\n",
              "      <td>81.67998</td>\n",
              "      <td>1.447825e+06</td>\n",
              "      <td>61731.27576</td>\n",
              "    </tr>\n",
              "    <tr>\n",
              "      <th>282</th>\n",
              "      <td>Reino Unido</td>\n",
              "      <td>2009</td>\n",
              "      <td>0.8600</td>\n",
              "      <td>84</td>\n",
              "      <td>76.07</td>\n",
              "      <td>79.31000</td>\n",
              "      <td>1.377247e+06</td>\n",
              "      <td>62086.03336</td>\n",
              "    </tr>\n",
              "    <tr>\n",
              "      <th>283</th>\n",
              "      <td>Reino Unido</td>\n",
              "      <td>2010</td>\n",
              "      <td>0.8620</td>\n",
              "      <td>77</td>\n",
              "      <td>76.81</td>\n",
              "      <td>80.18000</td>\n",
              "      <td>1.395893e+06</td>\n",
              "      <td>62438.13815</td>\n",
              "    </tr>\n",
              "    <tr>\n",
              "      <th>284</th>\n",
              "      <td>Reino Unido</td>\n",
              "      <td>2011</td>\n",
              "      <td>0.8630</td>\n",
              "      <td>77</td>\n",
              "      <td>80.28</td>\n",
              "      <td>81.68000</td>\n",
              "      <td>1.500045e+06</td>\n",
              "      <td>62262.00000</td>\n",
              "    </tr>\n",
              "  </tbody>\n",
              "</table>\n",
              "<p>285 rows × 8 columns</p>\n",
              "</div>\n",
              "      <button class=\"colab-df-convert\" onclick=\"convertToInteractive('df-6df86044-1a1a-44c7-b82f-b9c3bfd60d37')\"\n",
              "              title=\"Convert this dataframe to an interactive table.\"\n",
              "              style=\"display:none;\">\n",
              "        \n",
              "  <svg xmlns=\"http://www.w3.org/2000/svg\" height=\"24px\"viewBox=\"0 0 24 24\"\n",
              "       width=\"24px\">\n",
              "    <path d=\"M0 0h24v24H0V0z\" fill=\"none\"/>\n",
              "    <path d=\"M18.56 5.44l.94 2.06.94-2.06 2.06-.94-2.06-.94-.94-2.06-.94 2.06-2.06.94zm-11 1L8.5 8.5l.94-2.06 2.06-.94-2.06-.94L8.5 2.5l-.94 2.06-2.06.94zm10 10l.94 2.06.94-2.06 2.06-.94-2.06-.94-.94-2.06-.94 2.06-2.06.94z\"/><path d=\"M17.41 7.96l-1.37-1.37c-.4-.4-.92-.59-1.43-.59-.52 0-1.04.2-1.43.59L10.3 9.45l-7.72 7.72c-.78.78-.78 2.05 0 2.83L4 21.41c.39.39.9.59 1.41.59.51 0 1.02-.2 1.41-.59l7.78-7.78 2.81-2.81c.8-.78.8-2.07 0-2.86zM5.41 20L4 18.59l7.72-7.72 1.47 1.35L5.41 20z\"/>\n",
              "  </svg>\n",
              "      </button>\n",
              "      \n",
              "  <style>\n",
              "    .colab-df-container {\n",
              "      display:flex;\n",
              "      flex-wrap:wrap;\n",
              "      gap: 12px;\n",
              "    }\n",
              "\n",
              "    .colab-df-convert {\n",
              "      background-color: #E8F0FE;\n",
              "      border: none;\n",
              "      border-radius: 50%;\n",
              "      cursor: pointer;\n",
              "      display: none;\n",
              "      fill: #1967D2;\n",
              "      height: 32px;\n",
              "      padding: 0 0 0 0;\n",
              "      width: 32px;\n",
              "    }\n",
              "\n",
              "    .colab-df-convert:hover {\n",
              "      background-color: #E2EBFA;\n",
              "      box-shadow: 0px 1px 2px rgba(60, 64, 67, 0.3), 0px 1px 3px 1px rgba(60, 64, 67, 0.15);\n",
              "      fill: #174EA6;\n",
              "    }\n",
              "\n",
              "    [theme=dark] .colab-df-convert {\n",
              "      background-color: #3B4455;\n",
              "      fill: #D2E3FC;\n",
              "    }\n",
              "\n",
              "    [theme=dark] .colab-df-convert:hover {\n",
              "      background-color: #434B5C;\n",
              "      box-shadow: 0px 1px 3px 1px rgba(0, 0, 0, 0.15);\n",
              "      filter: drop-shadow(0px 1px 2px rgba(0, 0, 0, 0.3));\n",
              "      fill: #FFFFFF;\n",
              "    }\n",
              "  </style>\n",
              "\n",
              "      <script>\n",
              "        const buttonEl =\n",
              "          document.querySelector('#df-6df86044-1a1a-44c7-b82f-b9c3bfd60d37 button.colab-df-convert');\n",
              "        buttonEl.style.display =\n",
              "          google.colab.kernel.accessAllowed ? 'block' : 'none';\n",
              "\n",
              "        async function convertToInteractive(key) {\n",
              "          const element = document.querySelector('#df-6df86044-1a1a-44c7-b82f-b9c3bfd60d37');\n",
              "          const dataTable =\n",
              "            await google.colab.kernel.invokeFunction('convertToInteractive',\n",
              "                                                     [key], {});\n",
              "          if (!dataTable) return;\n",
              "\n",
              "          const docLinkHtml = 'Like what you see? Visit the ' +\n",
              "            '<a target=\"_blank\" href=https://colab.research.google.com/notebooks/data_table.ipynb>data table notebook</a>'\n",
              "            + ' to learn more about interactive tables.';\n",
              "          element.innerHTML = '';\n",
              "          dataTable['output_type'] = 'display_data';\n",
              "          await google.colab.output.renderOutput(dataTable, element);\n",
              "          const docLink = document.createElement('div');\n",
              "          docLink.innerHTML = docLinkHtml;\n",
              "          element.appendChild(docLink);\n",
              "        }\n",
              "      </script>\n",
              "    </div>\n",
              "  </div>\n",
              "  "
            ]
          },
          "metadata": {},
          "execution_count": 8
        }
      ]
    },
    {
      "cell_type": "code",
      "source": [
        "dados.groupby('pais') \\\n",
        "            .agg(min_idh = pd.NamedAgg('idh', 'min'),\n",
        "                 max_idh = pd.NamedAgg('idh', 'mean'),\n",
        "                 media_idh = pd.NamedAgg('idh', 'max')) \\\n",
        "            .reset_index() \\\n",
        "            .sort_values('media_idh', ascending = False)"
      ],
      "metadata": {
        "id": "rnARszbzWHVs"
      },
      "execution_count": null,
      "outputs": []
    },
    {
      "cell_type": "markdown",
      "source": [
        "## Moda"
      ],
      "metadata": {
        "id": "ltVFAwhTZZbp"
      }
    },
    {
      "cell_type": "code",
      "source": [
        "# fazemos assim\n",
        "dados.groupby('pais')['idh'].apply(lambda x: x.mode()[0]).to_frame('moda_idh').reset_index()"
      ],
      "metadata": {
        "id": "i4Vw5_csWHYL"
      },
      "execution_count": null,
      "outputs": []
    },
    {
      "cell_type": "markdown",
      "source": [
        "## Mediana\n"
      ],
      "metadata": {
        "id": "vvXASXrVc0hu"
      }
    },
    {
      "cell_type": "code",
      "source": [
        "dados.groupby('pais') \\\n",
        "     .agg(min_idh = pd.NamedAgg('idh', 'min'),\n",
        "          media_idh = pd.NamedAgg('idh', 'mean'),\n",
        "          mediana_idh = pd.NamedAgg('idh', 'median'),         \n",
        "          max_idh = pd.NamedAgg('idh', 'max')) \\\n",
        "     .reset_index() \\\n",
        "     .sort_values('media_idh', ascending = False)"
      ],
      "metadata": {
        "id": "jI_wp68yWHa7"
      },
      "execution_count": null,
      "outputs": []
    },
    {
      "cell_type": "markdown",
      "source": [
        "# Percentis"
      ],
      "metadata": {
        "id": "g1Fxtp2og0mY"
      }
    },
    {
      "cell_type": "code",
      "source": [
        "# Não funciona\n",
        "dados.groupby('pais') \\\n",
        "     .agg(min_idh = pd.NamedAgg('idh', 'min'),\n",
        "          media_idh = pd.NamedAgg('idh', 'mean'),\n",
        "          mediana_idh = pd.NamedAgg('idh', 'median'),\n",
        "          percentil_idh_25 = pd.NamedAgg('idh', percentil_25),       \n",
        "          max_idh = pd.NamedAgg('idh', 'max')) \\\n",
        "     .reset_index() \\\n",
        "     .sort_values('media_idh', ascending = False)"
      ],
      "metadata": {
        "colab": {
          "base_uri": "https://localhost:8080/",
          "height": 236
        },
        "id": "AixvdL6UZf1R",
        "outputId": "52e32807-0f29-43df-c28d-1bcfa7ec8e74"
      },
      "execution_count": 37,
      "outputs": [
        {
          "output_type": "error",
          "ename": "NameError",
          "evalue": "ignored",
          "traceback": [
            "\u001b[0;31m---------------------------------------------------------------------------\u001b[0m",
            "\u001b[0;31mNameError\u001b[0m                                 Traceback (most recent call last)",
            "\u001b[0;32m<ipython-input-37-1396417d67b3>\u001b[0m in \u001b[0;36m<module>\u001b[0;34m\u001b[0m\n\u001b[1;32m      4\u001b[0m           \u001b[0mmedia_idh\u001b[0m \u001b[0;34m=\u001b[0m \u001b[0mpd\u001b[0m\u001b[0;34m.\u001b[0m\u001b[0mNamedAgg\u001b[0m\u001b[0;34m(\u001b[0m\u001b[0;34m'idh'\u001b[0m\u001b[0;34m,\u001b[0m \u001b[0;34m'mean'\u001b[0m\u001b[0;34m)\u001b[0m\u001b[0;34m,\u001b[0m\u001b[0;34m\u001b[0m\u001b[0;34m\u001b[0m\u001b[0m\n\u001b[1;32m      5\u001b[0m           \u001b[0mmediana_idh\u001b[0m \u001b[0;34m=\u001b[0m \u001b[0mpd\u001b[0m\u001b[0;34m.\u001b[0m\u001b[0mNamedAgg\u001b[0m\u001b[0;34m(\u001b[0m\u001b[0;34m'idh'\u001b[0m\u001b[0;34m,\u001b[0m \u001b[0;34m'median'\u001b[0m\u001b[0;34m)\u001b[0m\u001b[0;34m,\u001b[0m\u001b[0;34m\u001b[0m\u001b[0;34m\u001b[0m\u001b[0m\n\u001b[0;32m----> 6\u001b[0;31m           \u001b[0mpercentil_idh_25\u001b[0m \u001b[0;34m=\u001b[0m \u001b[0mpd\u001b[0m\u001b[0;34m.\u001b[0m\u001b[0mNamedAgg\u001b[0m\u001b[0;34m(\u001b[0m\u001b[0;34m'idh'\u001b[0m\u001b[0;34m,\u001b[0m \u001b[0mpercentil_25\u001b[0m\u001b[0;34m)\u001b[0m\u001b[0;34m,\u001b[0m\u001b[0;34m\u001b[0m\u001b[0;34m\u001b[0m\u001b[0m\n\u001b[0m\u001b[1;32m      7\u001b[0m           max_idh = pd.NamedAgg('idh', 'max')) \\\n\u001b[1;32m      8\u001b[0m      \u001b[0;34m.\u001b[0m\u001b[0mreset_index\u001b[0m\u001b[0;34m(\u001b[0m\u001b[0;34m)\u001b[0m\u001b[0;31m \u001b[0m\u001b[0;31m\\\u001b[0m\u001b[0;34m\u001b[0m\u001b[0;34m\u001b[0m\u001b[0m\n",
            "\u001b[0;31mNameError\u001b[0m: name 'percentil_25' is not defined"
          ]
        }
      ]
    },
    {
      "cell_type": "code",
      "source": [
        "#estratégia 01\n",
        "dados.groupby('pais')['idh'] \\\n",
        "     .apply(lambda x: x.quantile([0.55, 0.85])) \\\n",
        "     .to_frame() \\\n",
        "     .reset_index() \\\n",
        "     .rename(columns = {'level_1':'percentil'})"
      ],
      "metadata": {
        "id": "nUk7ekpzZf34"
      },
      "execution_count": null,
      "outputs": []
    },
    {
      "cell_type": "code",
      "source": [
        "#estratéia 02\n",
        "def percentil_25(x):\n",
        "  return np.quantile(x, 0.25)"
      ],
      "metadata": {
        "id": "q0eHa3RIZf6s"
      },
      "execution_count": 50,
      "outputs": []
    },
    {
      "cell_type": "code",
      "source": [
        "dados.groupby('pais') \\\n",
        "     .agg(min_idh = pd.NamedAgg('idh', 'min'),\n",
        "          media_idh = pd.NamedAgg('idh', 'mean'),\n",
        "          mediana_idh = pd.NamedAgg('idh', 'median'),\n",
        "          percentil_idh_25 = pd.NamedAgg('idh', percentil_25),       \n",
        "          max_idh = pd.NamedAgg('idh', 'max')) \\\n",
        "     .reset_index() \\\n",
        "     .sort_values('media_idh', ascending = False)"
      ],
      "metadata": {
        "id": "9Kj4iEsWZf9Q"
      },
      "execution_count": null,
      "outputs": []
    },
    {
      "cell_type": "markdown",
      "source": [
        "## Variabilidade"
      ],
      "metadata": {
        "id": "tVYJa4VDw-4u"
      }
    },
    {
      "cell_type": "code",
      "source": [
        "media_paises = dados.groupby('pais') \\\n",
        "                           .agg(media_idh = pd.NamedAgg('idh', 'mean')) \\\n",
        "                           .reset_index()"
      ],
      "metadata": {
        "id": "A7EDe9SvWHfr"
      },
      "execution_count": 53,
      "outputs": []
    },
    {
      "cell_type": "code",
      "source": [
        "media_paises"
      ],
      "metadata": {
        "id": "N9cD4Aypw-I3"
      },
      "execution_count": null,
      "outputs": []
    },
    {
      "cell_type": "code",
      "source": [
        "dados = dados.merge(media_paises, how = 'left', on = 'pais')\n"
      ],
      "metadata": {
        "id": "DurC5FIjw-LV"
      },
      "execution_count": 55,
      "outputs": []
    },
    {
      "cell_type": "code",
      "source": [
        "dados.head(3)"
      ],
      "metadata": {
        "id": "3HxU8O2rw-QV"
      },
      "execution_count": null,
      "outputs": []
    },
    {
      "cell_type": "code",
      "source": [
        "dados['desvio'] = dados['idh'] - dados['media_idh']"
      ],
      "metadata": {
        "id": "8S0F6cfsw-S1"
      },
      "execution_count": 57,
      "outputs": []
    },
    {
      "cell_type": "code",
      "source": [
        "dados.head(3)"
      ],
      "metadata": {
        "id": "_5UyBwVgw-VV"
      },
      "execution_count": null,
      "outputs": []
    },
    {
      "cell_type": "code",
      "source": [
        "from pandas.core.groupby import NamedAgg\n",
        "from numpy.core.fromnumeric import var\n",
        "# desvio medio absoluto, variacia, desvio padrão\n",
        "dados.groupby('pais') \\\n",
        "     .agg(desvio_abs_idh = pd.NamedAgg ('idh', 'mad'),\n",
        "          var_idh = pd.NamedAgg('idh', 'var'), \n",
        "          dp_idh = pd.NamedAgg('idh', 'std'))"
      ],
      "metadata": {
        "id": "nuN2EzS0w-Xl"
      },
      "execution_count": null,
      "outputs": []
    },
    {
      "cell_type": "code",
      "source": [],
      "metadata": {
        "id": "lDHe2Q02zZph"
      },
      "execution_count": null,
      "outputs": []
    },
    {
      "cell_type": "code",
      "source": [],
      "metadata": {
        "id": "kcNUlv57zZr_"
      },
      "execution_count": null,
      "outputs": []
    },
    {
      "cell_type": "code",
      "source": [],
      "metadata": {
        "id": "Yuxmsmv6zZui"
      },
      "execution_count": null,
      "outputs": []
    },
    {
      "cell_type": "code",
      "source": [],
      "metadata": {
        "id": "R00Xl84KzZxA"
      },
      "execution_count": null,
      "outputs": []
    },
    {
      "cell_type": "code",
      "source": [],
      "metadata": {
        "id": "3EyrOryuzZzg"
      },
      "execution_count": null,
      "outputs": []
    },
    {
      "cell_type": "code",
      "source": [],
      "metadata": {
        "id": "h5g35c4qzZ1_"
      },
      "execution_count": null,
      "outputs": []
    },
    {
      "cell_type": "code",
      "source": [],
      "metadata": {
        "id": "agqUknoww-Z7"
      },
      "execution_count": null,
      "outputs": []
    }
  ]
}