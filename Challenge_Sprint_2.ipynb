{
  "nbformat": 4,
  "nbformat_minor": 0,
  "metadata": {
    "colab": {
      "name": "Challenge_Sprint_2.ipynb",
      "provenance": [],
      "collapsed_sections": [],
      "authorship_tag": "ABX9TyMwoRH7N9JvpkMLOUdEFTny",
      "include_colab_link": true
    },
    "kernelspec": {
      "name": "python3",
      "display_name": "Python 3"
    },
    "language_info": {
      "name": "python"
    }
  },
  "cells": [
    {
      "cell_type": "markdown",
      "metadata": {
        "id": "view-in-github",
        "colab_type": "text"
      },
      "source": [
        "<a href=\"https://colab.research.google.com/github/Henrique-soliveira/github-slideshow/blob/dependabot%2Fbundler%2Fnokogiri-1.13.6/Challenge_Sprint_2.ipynb\" target=\"_parent\"><img src=\"https://colab.research.google.com/assets/colab-badge.svg\" alt=\"Open In Colab\"/></a>"
      ]
    },
    {
      "cell_type": "code",
      "execution_count": 59,
      "metadata": {
        "id": "94VL6jUOeQgG"
      },
      "outputs": [],
      "source": [
        "import numpy as np\n",
        "import pandas as pd\n",
        "import matplotlib.pyplot as plt\n"
      ]
    },
    {
      "cell_type": "code",
      "source": [
        "customer_journey = pd.read_csv('customer_journey.csv',\n",
        "                               sep = ',',\n",
        "                               encoding = 'utf-8',\n",
        "                               decimal = '.')\n",
        "customer_journey.dtypes"
      ],
      "metadata": {
        "id": "3RO28kPHe5ji"
      },
      "execution_count": null,
      "outputs": []
    },
    {
      "cell_type": "code",
      "source": [
        "colunas_analise = pd.read_csv('descricao_colunas.csv', \n",
        "                              encoding = 'UTF8',\n",
        "                               sep = ';', \n",
        "                               decimal = ',')\n",
        "colunas_analise"
      ],
      "metadata": {
        "id": "lOp3rXsXe5nG"
      },
      "execution_count": null,
      "outputs": []
    },
    {
      "cell_type": "code",
      "source": [
        "cod_produto = pd.read_csv('cod_produto.csv',\n",
        "                          encoding = 'utf-8',\n",
        "                          sep = ';',\n",
        "                          decimal = ',')\n",
        "cod_produto"
      ],
      "metadata": {
        "id": "E3k3TcTyIwP5"
      },
      "execution_count": null,
      "outputs": []
    },
    {
      "cell_type": "code",
      "source": [
        "dados_challenge = pd.merge(customer_journey, cod_produto, how= 'left', left_on='produto', right_on = 'cod_produto' )"
      ],
      "metadata": {
        "id": "dajGdNHlIwAo"
      },
      "execution_count": 122,
      "outputs": []
    },
    {
      "cell_type": "code",
      "source": [
        "dados_challenge.dtypes\n"
      ],
      "metadata": {
        "id": "8HAQFPwKIv60"
      },
      "execution_count": null,
      "outputs": []
    },
    {
      "cell_type": "code",
      "source": [
        "dados_challenge = dados_challenge.rename(columns = {'produto_x' : 'numero_prod', 'produto_y' : 'nome_produto'})"
      ],
      "metadata": {
        "id": "We9kBDT9Ivro"
      },
      "execution_count": 124,
      "outputs": []
    },
    {
      "cell_type": "code",
      "source": [
        "grafico = dados_challenge[dados_challenge['cod_produto'] == 16]"
      ],
      "metadata": {
        "id": "dXYFa_MV6VKh"
      },
      "execution_count": 125,
      "outputs": []
    },
    {
      "cell_type": "code",
      "source": [
        "resumo_idade = dados_challenge.groupby('nome_produto').agg(idade_media = pd.NamedAgg('idade', 'mean')).reset_index()"
      ],
      "metadata": {
        "id": "2QGMa0cIUP2k"
      },
      "execution_count": 129,
      "outputs": []
    },
    {
      "cell_type": "code",
      "source": [
        "ax = resumo_idade.plot.bar(x= 'nome_produto', y= 'idade_media', legend = None)\n",
        "plt.xlabel (\"cod_produto\")\n",
        "plt.ylabel (\"idade\")\n",
        "plt.title (\"dados emprestimo\")"
      ],
      "metadata": {
        "id": "fIVYxstO6VH9",
        "colab": {
          "base_uri": "https://localhost:8080/",
          "height": 469
        },
        "outputId": "5896258e-a521-4b2c-f15c-0074d94f26a5"
      },
      "execution_count": 131,
      "outputs": [
        {
          "output_type": "execute_result",
          "data": {
            "text/plain": [
              "Text(0.5, 1.0, 'dados emprestimo')"
            ]
          },
          "metadata": {},
          "execution_count": 131
        },
        {
          "output_type": "display_data",
          "data": {
            "text/plain": [
              "<Figure size 432x288 with 1 Axes>"
            ],
            "image/png": "[encoded data removed]"
          },
          "metadata": {
            "needs_background": "light"
          }
        }
      ]
    }
  ]
}